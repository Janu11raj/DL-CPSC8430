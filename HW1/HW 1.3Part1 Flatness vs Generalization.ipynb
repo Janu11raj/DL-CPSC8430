{
 "cells": [
  {
   "cell_type": "code",
   "execution_count": 18,
   "id": "c6414d20-c411-4d38-a7f6-8d74a4027654",
   "metadata": {
    "tags": []
   },
   "outputs": [],
   "source": [
    "import torch\n",
    "import torch.nn as nn\n",
    "import torch.nn.functional as F\n",
    "import torchvision\n",
    "import torchvision.transforms as transforms\n",
    "import matplotlib.pyplot as plt\n",
    "import numpy as np\n",
    "from torch.nn.utils import parameters_to_vector, vector_to_parameters\n",
    "from torch.autograd import Variable"
   ]
  },
  {
   "cell_type": "code",
   "execution_count": 19,
   "id": "c2f2e937-dfa7-4434-aca5-d6e945371471",
   "metadata": {
    "tags": []
   },
   "outputs": [
    {
     "name": "stdout",
     "output_type": "stream",
     "text": [
      "train_dataset size: 60000 \n",
      "test_dataset size: 10000\n"
     ]
    }
   ],
   "source": [
    "# MNIST dataset \n",
    "train_dataset = torchvision.datasets.MNIST(root='./data', \n",
    "                                           train=True, \n",
    "                                           transform=transforms.ToTensor(),  \n",
    "                                           download=False)\n",
    "\n",
    "test_dataset = torchvision.datasets.MNIST(root='./data', \n",
    "                                          train=False, \n",
    "                                          transform=transforms.ToTensor())\n",
    "\n",
    "print(\"train_dataset size:\", len(train_dataset),\"\\ntest_dataset size:\", len(test_dataset))"
   ]
  },
  {
   "cell_type": "code",
   "execution_count": 20,
   "id": "b8c74f98-9517-457b-aec8-6a62d1946cd5",
   "metadata": {
    "tags": []
   },
   "outputs": [],
   "source": [
    "# Data loader func\n",
    "def train_loader(batch_size):\n",
    "    train_loader = torch.utils.data.DataLoader(dataset=train_dataset, \n",
    "                                           batch_size = batch_size, \n",
    "                                           shuffle=True)\n",
    "    return train_loader\n",
    "\n",
    "\n",
    "def test_loader(batch_size):\n",
    "    test_loader = torch.utils.data.DataLoader(dataset=test_dataset, \n",
    "                                          batch_size=batch_size, \n",
    "                                          shuffle=False)\n",
    "    return test_loader"
   ]
  },
  {
   "cell_type": "code",
   "execution_count": 21,
   "id": "a855a9c3-7943-4d55-882d-d1e008788073",
   "metadata": {
    "tags": []
   },
   "outputs": [],
   "source": [
    "class M1(nn.Module):\n",
    "  def __init__(self,):\n",
    "        super(M1, self).__init__()\n",
    "        self.fc1 = nn.Linear(784, 500)\n",
    "        self.fc2 = nn.Linear(500, 10)\n",
    "        \n",
    "  def forward(self, x):\n",
    "        # flatten as one dimension\n",
    "        x = x.reshape(x.shape[0], -1)\n",
    "        x = F.relu(self.fc1(x))\n",
    "        x = self.fc2(x)\n",
    "        return x\n",
    "        "
   ]
  },
  {
   "cell_type": "code",
   "execution_count": 22,
   "id": "ca51cef8-20fb-4f5b-8356-9bf7c35ed32b",
   "metadata": {
    "tags": []
   },
   "outputs": [
    {
     "data": {
      "text/plain": [
       "10"
      ]
     },
     "execution_count": 22,
     "metadata": {},
     "output_type": "execute_result"
    }
   ],
   "source": [
    "len(train_loader(6000))"
   ]
  },
  {
   "cell_type": "code",
   "execution_count": 23,
   "id": "cd57adf4-0f5d-4fa0-a762-5e7c9de1cc81",
   "metadata": {
    "tags": []
   },
   "outputs": [],
   "source": [
    "#train function\n",
    "def trainFunc(model,num_epochs,train_batch_size,status):\n",
    "    model.train()\n",
    "    print('strated')\n",
    "    train_load = train_loader(train_batch_size)\n",
    "    n_total_steps = len(train_load)\n",
    "    train_losses = []\n",
    "    train_epoch = []\n",
    "    train_acc = []\n",
    "    not_converged =True\n",
    "    epoch = 0\n",
    "    trainAvgLossArr = []\n",
    "    trainAvgAccArr = []\n",
    "\n",
    "    while not_converged:\n",
    "        epoch += 1\n",
    "        n_correct = 0\n",
    "        n_samples = 0\n",
    "        lossSum =0\n",
    "        totalacc =0\n",
    "\n",
    "        for i, (images, labels) in enumerate(train_load):  \n",
    "            \n",
    "            images, labels = Variable(images),Variable(labels)\n",
    "            # zero the parameter gradients\n",
    "            optimizer.zero_grad()\n",
    "            # Forward pass\n",
    "            prediction = model(images)\n",
    "            loss = loss_func(prediction, labels)\n",
    "            lossSum += loss.detach().numpy()\n",
    "            # Backward and optimize\n",
    "            loss.backward()\n",
    "            \n",
    "            optimizer.step()\n",
    "\n",
    "            _, predicted = torch.max(prediction.data, 1)\n",
    "            n_samples += labels.size(0)\n",
    "            n_correct += (predicted == labels).sum().item()\n",
    "            acc = 100.0 * n_correct / n_samples\n",
    "            totalacc += acc\n",
    "\n",
    "            train_losses.append(loss.item())\n",
    "            train_acc.append(acc)\n",
    "            train_epoch.append(epoch)\n",
    "\n",
    "            if (i+1) % status == 0:\n",
    "                print (f'Train O/P: Epoch [{epoch}/{num_epochs}], Step [{i+1}/{n_total_steps}], Loss: {loss.item():.4f}',end= '\\r',flush = True)\n",
    "   \n",
    "                if epoch == num_epochs:\n",
    "                        print(\"Max Epoch Reached\")\n",
    "                        not_converged = False\n",
    "                elif (epoch > 5) and  (train_losses[-1] < 0.001):\n",
    "                    if abs(train_losses[-3] - train_losses[-2]) < 1.0e-05 and abs(train_losses[-2] - train_losses[-1]) < 1.0e-05:\n",
    "                        print(\"Convergeance reached for loss:\",train_losses[-1])\n",
    "                        not_converged = False\n",
    "\n",
    "       \n",
    "        epochAcc = totalacc/(i+1)\n",
    "        trainAvgLossArr.append(lossSum/n_total_steps)    \n",
    "        trainAvgAccArr.append(epochAcc)\n",
    "\n",
    "    return train_epoch,train_losses,train_acc,trainAvgLossArr,trainAvgAccArr"
   ]
  },
  {
   "cell_type": "code",
   "execution_count": 24,
   "id": "f6c16c32-c57d-4c75-bf8e-edfb5a592a16",
   "metadata": {
    "tags": []
   },
   "outputs": [
    {
     "name": "stdout",
     "output_type": "stream",
     "text": [
      "Total no of parameters in Model with batch_size=64 is:397510\n"
     ]
    }
   ],
   "source": [
    "# Training Model with batch size=64\n",
    "torch.manual_seed(1)\n",
    "\n",
    "learning_rate = 0.0015\n",
    "mBatch1 = M1()\n",
    "loss_func = nn.CrossEntropyLoss()\n",
    "weight_decay_val = 1e-4\n",
    "\n",
    "optimizer = torch.optim.Adam(mBatch1.parameters(), lr=learning_rate, weight_decay = weight_decay_val)\n",
    "\n",
    "#optimizer = torch.optim.SGD(mBatch1.parameters(), lr=learning_rate)\n",
    "\n",
    "a=[]\n",
    "for i in mBatch1.parameters():\n",
    "    a.append(torch.numel(i))\n",
    "print(f'Total no of parameters in Model with batch_size={64} is:{np.sum(a)}')"
   ]
  },
  {
   "cell_type": "code",
   "execution_count": 25,
   "id": "aac5279c-eb52-4988-a1df-acbe419eb0cf",
   "metadata": {
    "tags": []
   },
   "outputs": [
    {
     "name": "stdout",
     "output_type": "stream",
     "text": [
      "strated\n",
      "Max Epoch Reached[15/15], Step [500/938], Loss: 0.0764\n"
     ]
    }
   ],
   "source": [
    "max_epochs = 15\n",
    "train_batch_size = 64\n",
    "status = 500\n",
    "B1_train_epoch,B1_train_losses,B1_train_acc,B1trainAvgLossArr,B1trainAvgAccArr  = trainFunc(mBatch1,max_epochs,train_batch_size,status)"
   ]
  },
  {
   "cell_type": "code",
   "execution_count": 26,
   "id": "9f3be1bd-f6eb-4c99-96e8-911ae69c2617",
   "metadata": {
    "tags": []
   },
   "outputs": [
    {
     "name": "stdout",
     "output_type": "stream",
     "text": [
      "Total no of parameters in Model with batch_size=1000 is:397510\n"
     ]
    }
   ],
   "source": [
    "# Training Model with batch size=1000\n",
    "torch.manual_seed(1)\n",
    "\n",
    "learning_rate = 0.0015\n",
    "mBatch2 = M1()\n",
    "loss_func = nn.CrossEntropyLoss()\n",
    "weight_decay_val = 1e-4\n",
    "optimizer = torch.optim.Adam(mBatch2.parameters(), lr=learning_rate, weight_decay=weight_decay_val) \n",
    "#optimizer = torch.optim.SGD(mBatch2.parameters(), lr=learning_rate)\n",
    "\n",
    "a=[]\n",
    "for i in mBatch2.parameters():\n",
    "    a.append(torch.numel(i))\n",
    "print(f'Total no of parameters in Model with batch_size={1000} is:{np.sum(a)}')"
   ]
  },
  {
   "cell_type": "code",
   "execution_count": 27,
   "id": "49eb4a6c-d2dc-4211-b764-8f035cf8b047",
   "metadata": {
    "tags": []
   },
   "outputs": [
    {
     "name": "stdout",
     "output_type": "stream",
     "text": [
      "strated\n",
      "Max Epoch Reached[15/15], Step [5/60], Loss: 0.03324\n",
      "Max Epoch Reached[15/15], Step [10/60], Loss: 0.0253\n",
      "Max Epoch Reached[15/15], Step [15/60], Loss: 0.0261\n",
      "Max Epoch Reached[15/15], Step [20/60], Loss: 0.0357\n",
      "Max Epoch Reached[15/15], Step [25/60], Loss: 0.0291\n",
      "Max Epoch Reached[15/15], Step [30/60], Loss: 0.0379\n",
      "Max Epoch Reached[15/15], Step [35/60], Loss: 0.0320\n",
      "Max Epoch Reached[15/15], Step [40/60], Loss: 0.0425\n",
      "Max Epoch Reached[15/15], Step [45/60], Loss: 0.0365\n",
      "Max Epoch Reached[15/15], Step [50/60], Loss: 0.0441\n",
      "Max Epoch Reached[15/15], Step [55/60], Loss: 0.0302\n",
      "Max Epoch Reached[15/15], Step [60/60], Loss: 0.0333\n"
     ]
    }
   ],
   "source": [
    "max_epochs = 15\n",
    "train_batch_size = 1000\n",
    "status = 5\n",
    "B2_train_epoch,B2_train_losses,B2_train_acc,B2trainAvgLossArr,B2trainAvgAccArr = trainFunc(mBatch2,max_epochs,train_batch_size,status)"
   ]
  },
  {
   "cell_type": "code",
   "execution_count": 30,
   "id": "add3e9c5-095e-44df-a184-1c1ce6125d09",
   "metadata": {
    "tags": []
   },
   "outputs": [],
   "source": [
    "epochArr = np.array(np.linspace(1,max_epochs,max_epochs))"
   ]
  },
  {
   "cell_type": "code",
   "execution_count": 29,
   "id": "6f1e018d-0154-4135-bad9-1c4c240f7d12",
   "metadata": {
    "tags": []
   },
   "outputs": [
    {
     "name": "stdout",
     "output_type": "stream",
     "text": [
      "15\n",
      "15\n",
      "15\n"
     ]
    }
   ],
   "source": [
    "print(len(epochArr))\n",
    "print(len(B1trainAvgLossArr))\n",
    "print(len(B2trainAvgLossArr))\n"
   ]
  },
  {
   "cell_type": "code",
   "execution_count": 31,
   "id": "60ec0966-5ecd-43e9-b9aa-e1189892c3c3",
   "metadata": {
    "tags": []
   },
   "outputs": [
    {
     "data": {
      "image/png": "[encoded data removed]",
      "text/plain": [
       "<Figure size 2000x800 with 1 Axes>"
      ]
     },
     "metadata": {},
     "output_type": "display_data"
    }
   ],
   "source": [
    "#Plotting Loss plot for both Batch 1 and Batch 2 models\n",
    "#B2_train_epoch,B2_train_losses,B2_train_acc\n",
    "plt.figure(figsize=(20, 8))\n",
    "plt.plot(epochArr,B1trainAvgLossArr,color=\"blue\")\n",
    "plt.plot(epochArr,B2trainAvgLossArr,color=\"orange\")\n",
    "plt.title('Batch1 & Bathc2 Loss VS Epoch')\n",
    "plt.legend(['Batch 1','Batch 2'])\n",
    "plt.xlabel ('Epoch')\n",
    "plt.ylabel ('loss')\n",
    "plt.show()"
   ]
  },
  {
   "cell_type": "code",
   "execution_count": 32,
   "id": "0f42fc54-806b-453b-86a5-543736763c91",
   "metadata": {
    "tags": []
   },
   "outputs": [],
   "source": [
    "# print(np.min(B1_train_losses),np.min(B2_train_losses))"
   ]
  },
  {
   "cell_type": "code",
   "execution_count": 33,
   "id": "d0699806-6024-4a08-83f4-c14f4c569f84",
   "metadata": {
    "tags": []
   },
   "outputs": [
    {
     "name": "stdout",
     "output_type": "stream",
     "text": [
      "tensor([ 2.3479e-37, -3.4748e-39, -2.3425e-38,  ..., -1.9976e-01,\n",
      "         4.2178e-01,  8.1326e-02], grad_fn=<CatBackward0>) \n",
      "len: 397510\n"
     ]
    }
   ],
   "source": [
    "batch1_param = torch.nn.utils.parameters_to_vector(mBatch1.parameters())\n",
    "print(batch1_param,'\\nlen:',len(batch1_param))"
   ]
  },
  {
   "cell_type": "code",
   "execution_count": 34,
   "id": "047be726-d5d7-484f-98ed-9f4916afd603",
   "metadata": {
    "tags": []
   },
   "outputs": [
    {
     "name": "stdout",
     "output_type": "stream",
     "text": [
      "tensor([ 4.2678e-23, -2.2518e-23, -2.0252e-23,  ...,  4.3990e-02,\n",
      "        -2.9178e-02, -3.0045e-02], grad_fn=<CatBackward0>) \n",
      "len: 397510\n"
     ]
    }
   ],
   "source": [
    "batch2_param = torch.nn.utils.parameters_to_vector(mBatch2.parameters())\n",
    "print(batch2_param,'\\nlen:',len(batch2_param))"
   ]
  },
  {
   "cell_type": "code",
   "execution_count": 35,
   "id": "31301772-ad98-4c8d-ad53-b697321365f5",
   "metadata": {
    "tags": []
   },
   "outputs": [
    {
     "name": "stdout",
     "output_type": "stream",
     "text": [
      "[-2.         -1.86666667 -1.73333333 -1.6        -1.46666667 -1.33333333\n",
      " -1.2        -1.06666667 -0.93333333 -0.8        -0.66666667 -0.53333333\n",
      " -0.4        -0.26666667 -0.13333333  0.          0.13333333  0.26666667\n",
      "  0.4         0.53333333  0.66666667  0.8         0.93333333  1.06666667\n",
      "  1.2         1.33333333  1.46666667  1.6         1.73333333  1.86666667\n",
      "  2.        ]\n"
     ]
    }
   ],
   "source": [
    "alpha = np.linspace(-2.0, 2.0, num=31)\n",
    "print(alpha)"
   ]
  },
  {
   "cell_type": "code",
   "execution_count": 36,
   "id": "3f0ae756-ea86-4545-ad95-64b930a4745e",
   "metadata": {
    "tags": []
   },
   "outputs": [],
   "source": [
    "thetaArr =[]\n",
    "for i in range (len(alpha)):\n",
    "    theta = (1-alpha[i])*batch1_param + alpha[i]*batch2_param\n",
    "    thetaArr.append(theta)"
   ]
  },
  {
   "cell_type": "code",
   "execution_count": 37,
   "id": "a33e81ad-e9c7-4729-9564-50f4bb9a72cd",
   "metadata": {
    "tags": []
   },
   "outputs": [],
   "source": [
    "def testFunction(model,loss_func,testLoader,test_batch_size): \n",
    "    test_loader = testLoader\n",
    "    test_load = test_loader(test_batch_size)\n",
    "    model.eval()\n",
    "    with torch.no_grad():\n",
    "        n_correct = 0\n",
    "        n_samples = 0\n",
    "        testLoss = 0\n",
    "        count =0\n",
    "        for images, labels in test_load:\n",
    "            images, labels = Variable(images),Variable(labels)\n",
    "            \n",
    "            prediction = model(images)\n",
    "            testLoss += loss_func(prediction,labels).item()\n",
    "            # max returns (value ,index)\n",
    "            _, predicted = torch.max(prediction.data, 1)\n",
    "            n_samples += labels.size(0)\n",
    "            n_correct += (predicted == labels).sum().item()\n",
    "            count +=1\n",
    "\n",
    "    netTest_loss = testLoss/count\n",
    "    netTest_acc1 = 100.0 * n_correct / n_samples\n",
    "    print(f'Accuracy of the network on the test images: {netTest_acc1} & Test Loss: {netTest_loss} %', end=\"\\r\", flush= True)\n",
    "    return netTest_acc1, netTest_loss"
   ]
  },
  {
   "cell_type": "code",
   "execution_count": 38,
   "id": "daa420fa-7d3c-4ec4-9588-d3b0cedf8347",
   "metadata": {
    "tags": []
   },
   "outputs": [],
   "source": [
    "import copy"
   ]
  },
  {
   "cell_type": "code",
   "execution_count": 39,
   "id": "9f9cb303-4e95-4e8c-808f-f3601c74945b",
   "metadata": {
    "tags": []
   },
   "outputs": [
    {
     "name": "stdout",
     "output_type": "stream",
     "text": [
      "Total no of parameters in Model Theta 0 is:397510\n",
      "<bound method Module.parameters of M1(\n",
      "  (fc1): Linear(in_features=784, out_features=500, bias=True)\n",
      "  (fc2): Linear(in_features=500, out_features=10, bias=True)\n",
      ")>\n",
      "strated\n",
      "Max Epoch Reached[1/1], Step [100/120], Loss: 0.1792\n",
      "Total no of parameters in Model Theta 1 is:397510 & Test Loss: 0.3015259905718267 %\n",
      "<bound method Module.parameters of M1(\n",
      "  (fc1): Linear(in_features=784, out_features=500, bias=True)\n",
      "  (fc2): Linear(in_features=500, out_features=10, bias=True)\n",
      ")>\n",
      "strated\n",
      "Max Epoch Reached[1/1], Step [100/120], Loss: 0.0607\n",
      "Total no of parameters in Model Theta 2 is:397510 & Test Loss: 0.26009572437033057 %\n",
      "<bound method Module.parameters of M1(\n",
      "  (fc1): Linear(in_features=784, out_features=500, bias=True)\n",
      "  (fc2): Linear(in_features=500, out_features=10, bias=True)\n",
      ")>\n",
      "strated\n",
      "Max Epoch Reached[1/1], Step [100/120], Loss: 0.0436\n",
      "Total no of parameters in Model Theta 3 is:397510& Test Loss: 0.22870691334828736 %\n",
      "<bound method Module.parameters of M1(\n",
      "  (fc1): Linear(in_features=784, out_features=500, bias=True)\n",
      "  (fc2): Linear(in_features=500, out_features=10, bias=True)\n",
      ")>\n",
      "strated\n",
      "Max Epoch Reached[1/1], Step [100/120], Loss: 0.0211\n",
      "Total no of parameters in Model Theta 4 is:397510 & Test Loss: 0.19574186955578626 %\n",
      "<bound method Module.parameters of M1(\n",
      "  (fc1): Linear(in_features=784, out_features=500, bias=True)\n",
      "  (fc2): Linear(in_features=500, out_features=10, bias=True)\n",
      ")>\n",
      "strated\n",
      "Max Epoch Reached[1/1], Step [100/120], Loss: 0.0485\n",
      "Total no of parameters in Model Theta 5 is:397510 & Test Loss: 0.16519021522253752 %\n",
      "<bound method Module.parameters of M1(\n",
      "  (fc1): Linear(in_features=784, out_features=500, bias=True)\n",
      "  (fc2): Linear(in_features=500, out_features=10, bias=True)\n",
      ")>\n",
      "strated\n",
      "Max Epoch Reached[1/1], Step [100/120], Loss: 0.0414\n",
      "Total no of parameters in Model Theta 6 is:397510 & Test Loss: 0.14155478668399155 %\n",
      "<bound method Module.parameters of M1(\n",
      "  (fc1): Linear(in_features=784, out_features=500, bias=True)\n",
      "  (fc2): Linear(in_features=500, out_features=10, bias=True)\n",
      ")>\n",
      "strated\n",
      "Max Epoch Reached[1/1], Step [100/120], Loss: 0.0340\n",
      "Total no of parameters in Model Theta 7 is:397510 & Test Loss: 0.12129048760980368 %\n",
      "<bound method Module.parameters of M1(\n",
      "  (fc1): Linear(in_features=784, out_features=500, bias=True)\n",
      "  (fc2): Linear(in_features=500, out_features=10, bias=True)\n",
      ")>\n",
      "strated\n",
      "Max Epoch Reached[1/1], Step [100/120], Loss: 0.0025\n",
      "Total no of parameters in Model Theta 8 is:397510 & Test Loss: 0.10610435935668647 %\n",
      "<bound method Module.parameters of M1(\n",
      "  (fc1): Linear(in_features=784, out_features=500, bias=True)\n",
      "  (fc2): Linear(in_features=500, out_features=10, bias=True)\n",
      ")>\n",
      "strated\n",
      "Max Epoch Reached[1/1], Step [100/120], Loss: 0.0067\n",
      "Total no of parameters in Model Theta 9 is:397510 & Test Loss: 0.08937631917651742 %\n",
      "<bound method Module.parameters of M1(\n",
      "  (fc1): Linear(in_features=784, out_features=500, bias=True)\n",
      "  (fc2): Linear(in_features=500, out_features=10, bias=True)\n",
      ")>\n",
      "strated\n",
      "Max Epoch Reached[1/1], Step [100/120], Loss: 0.0141\n",
      "Total no of parameters in Model Theta 10 is:397510 Test Loss: 0.07932661189697683 %\n",
      "<bound method Module.parameters of M1(\n",
      "  (fc1): Linear(in_features=784, out_features=500, bias=True)\n",
      "  (fc2): Linear(in_features=500, out_features=10, bias=True)\n",
      ")>\n",
      "strated\n",
      "Max Epoch Reached[1/1], Step [100/120], Loss: 0.0163\n",
      "Total no of parameters in Model Theta 11 is:397510 Test Loss: 0.06999873589957133 %\n",
      "<bound method Module.parameters of M1(\n",
      "  (fc1): Linear(in_features=784, out_features=500, bias=True)\n",
      "  (fc2): Linear(in_features=500, out_features=10, bias=True)\n",
      ")>\n",
      "strated\n",
      "Max Epoch Reached[1/1], Step [100/120], Loss: 0.0051\n",
      "Total no of parameters in Model Theta 12 is:397510& Test Loss: 0.0625690731627401 %\n",
      "<bound method Module.parameters of M1(\n",
      "  (fc1): Linear(in_features=784, out_features=500, bias=True)\n",
      "  (fc2): Linear(in_features=500, out_features=10, bias=True)\n",
      ")>\n",
      "strated\n",
      "Max Epoch Reached[1/1], Step [100/120], Loss: 0.0028\n",
      "Total no of parameters in Model Theta 13 is:397510& Test Loss: 0.05665128640830517 %\n",
      "<bound method Module.parameters of M1(\n",
      "  (fc1): Linear(in_features=784, out_features=500, bias=True)\n",
      "  (fc2): Linear(in_features=500, out_features=10, bias=True)\n",
      ")>\n",
      "strated\n",
      "Max Epoch Reached[1/1], Step [100/120], Loss: 0.0050\n",
      "Total no of parameters in Model Theta 14 is:397510& Test Loss: 0.05148881747154519 %\n",
      "<bound method Module.parameters of M1(\n",
      "  (fc1): Linear(in_features=784, out_features=500, bias=True)\n",
      "  (fc2): Linear(in_features=500, out_features=10, bias=True)\n",
      ")>\n",
      "strated\n",
      "Max Epoch Reached[1/1], Step [100/120], Loss: 0.0073\n",
      "Total no of parameters in Model Theta 15 is:397510& Test Loss: 0.04873073074268177 %\n",
      "<bound method Module.parameters of M1(\n",
      "  (fc1): Linear(in_features=784, out_features=500, bias=True)\n",
      "  (fc2): Linear(in_features=500, out_features=10, bias=True)\n",
      ")>\n",
      "strated\n",
      "Max Epoch Reached[1/1], Step [100/120], Loss: 0.0074\n",
      "Total no of parameters in Model Theta 16 is:397510& Test Loss: 0.04768211087211967 %\n",
      "<bound method Module.parameters of M1(\n",
      "  (fc1): Linear(in_features=784, out_features=500, bias=True)\n",
      "  (fc2): Linear(in_features=500, out_features=10, bias=True)\n",
      ")>\n",
      "strated\n",
      "Max Epoch Reached[1/1], Step [100/120], Loss: 0.0109\n",
      "Total no of parameters in Model Theta 17 is:397510& Test Loss: 0.04768415482249111 %\n",
      "<bound method Module.parameters of M1(\n",
      "  (fc1): Linear(in_features=784, out_features=500, bias=True)\n",
      "  (fc2): Linear(in_features=500, out_features=10, bias=True)\n",
      ")>\n",
      "strated\n",
      "Max Epoch Reached[1/1], Step [100/120], Loss: 0.0130\n",
      "Total no of parameters in Model Theta 18 is:397510& Test Loss: 0.04820182058028877 %\n",
      "<bound method Module.parameters of M1(\n",
      "  (fc1): Linear(in_features=784, out_features=500, bias=True)\n",
      "  (fc2): Linear(in_features=500, out_features=10, bias=True)\n",
      ")>\n",
      "strated\n",
      "Max Epoch Reached[1/1], Step [100/120], Loss: 0.0288\n",
      "Total no of parameters in Model Theta 19 is:397510& Test Loss: 0.050442902557551864 %\n",
      "<bound method Module.parameters of M1(\n",
      "  (fc1): Linear(in_features=784, out_features=500, bias=True)\n",
      "  (fc2): Linear(in_features=500, out_features=10, bias=True)\n",
      ")>\n",
      "strated\n",
      "Max Epoch Reached[1/1], Step [100/120], Loss: 0.0304\n",
      "Total no of parameters in Model Theta 20 is:397510 Test Loss: 0.05475447182543576 %\n",
      "<bound method Module.parameters of M1(\n",
      "  (fc1): Linear(in_features=784, out_features=500, bias=True)\n",
      "  (fc2): Linear(in_features=500, out_features=10, bias=True)\n",
      ")>\n",
      "strated\n",
      "Max Epoch Reached[1/1], Step [100/120], Loss: 0.0315\n",
      "Total no of parameters in Model Theta 21 is:397510& Test Loss: 0.058254331396892664 %\n",
      "<bound method Module.parameters of M1(\n",
      "  (fc1): Linear(in_features=784, out_features=500, bias=True)\n",
      "  (fc2): Linear(in_features=500, out_features=10, bias=True)\n",
      ")>\n",
      "strated\n",
      "Max Epoch Reached[1/1], Step [100/120], Loss: 0.0360\n",
      "Total no of parameters in Model Theta 22 is:397510& Test Loss: 0.061406180867925285 %\n",
      "<bound method Module.parameters of M1(\n",
      "  (fc1): Linear(in_features=784, out_features=500, bias=True)\n",
      "  (fc2): Linear(in_features=500, out_features=10, bias=True)\n",
      ")>\n",
      "strated\n",
      "Max Epoch Reached[1/1], Step [100/120], Loss: 0.0190\n",
      "Total no of parameters in Model Theta 23 is:397510& Test Loss: 0.06292610908858479 %\n",
      "<bound method Module.parameters of M1(\n",
      "  (fc1): Linear(in_features=784, out_features=500, bias=True)\n",
      "  (fc2): Linear(in_features=500, out_features=10, bias=True)\n",
      ")>\n",
      "strated\n",
      "Max Epoch Reached[1/1], Step [100/120], Loss: 0.0224\n",
      "Total no of parameters in Model Theta 24 is:397510& Test Loss: 0.06193179972469807 %\n",
      "<bound method Module.parameters of M1(\n",
      "  (fc1): Linear(in_features=784, out_features=500, bias=True)\n",
      "  (fc2): Linear(in_features=500, out_features=10, bias=True)\n",
      ")>\n",
      "strated\n",
      "Max Epoch Reached[1/1], Step [100/120], Loss: 0.0251\n",
      "Total no of parameters in Model Theta 25 is:397510& Test Loss: 0.064947929373011 %\n",
      "<bound method Module.parameters of M1(\n",
      "  (fc1): Linear(in_features=784, out_features=500, bias=True)\n",
      "  (fc2): Linear(in_features=500, out_features=10, bias=True)\n",
      ")>\n",
      "strated\n",
      "Max Epoch Reached[1/1], Step [100/120], Loss: 0.0229\n",
      "Total no of parameters in Model Theta 26 is:397510& Test Loss: 0.06818529823794961 %\n",
      "<bound method Module.parameters of M1(\n",
      "  (fc1): Linear(in_features=784, out_features=500, bias=True)\n",
      "  (fc2): Linear(in_features=500, out_features=10, bias=True)\n",
      ")>\n",
      "strated\n",
      "Max Epoch Reached[1/1], Step [100/120], Loss: 0.0259\n",
      "Total no of parameters in Model Theta 27 is:397510& Test Loss: 0.0762126342393458 %\n",
      "<bound method Module.parameters of M1(\n",
      "  (fc1): Linear(in_features=784, out_features=500, bias=True)\n",
      "  (fc2): Linear(in_features=500, out_features=10, bias=True)\n",
      ")>\n",
      "strated\n",
      "Max Epoch Reached[1/1], Step [100/120], Loss: 0.0352\n",
      "Total no of parameters in Model Theta 28 is:397510 Test Loss: 0.08764764834195375 %\n",
      "<bound method Module.parameters of M1(\n",
      "  (fc1): Linear(in_features=784, out_features=500, bias=True)\n",
      "  (fc2): Linear(in_features=500, out_features=10, bias=True)\n",
      ")>\n",
      "strated\n",
      "Max Epoch Reached[1/1], Step [100/120], Loss: 0.0504\n",
      "Total no of parameters in Model Theta 29 is:397510& Test Loss: 0.10702230199240148 %\n",
      "<bound method Module.parameters of M1(\n",
      "  (fc1): Linear(in_features=784, out_features=500, bias=True)\n",
      "  (fc2): Linear(in_features=500, out_features=10, bias=True)\n",
      ")>\n",
      "strated\n",
      "Max Epoch Reached[1/1], Step [100/120], Loss: 0.0436\n",
      "Total no of parameters in Model Theta 30 is:397510& Test Loss: 0.13477987083606421 %\n",
      "<bound method Module.parameters of M1(\n",
      "  (fc1): Linear(in_features=784, out_features=500, bias=True)\n",
      "  (fc2): Linear(in_features=500, out_features=10, bias=True)\n",
      ")>\n",
      "strated\n",
      "Max Epoch Reached[1/1], Step [100/120], Loss: 0.0920\n",
      "Accuracy of the network on the test images: 95.8 & Test Loss: 0.17627217611297966 %\r"
     ]
    }
   ],
   "source": [
    "modelsTrainEpochArr = []\n",
    "modelsTrainLossArr = []\n",
    "modelsTrainAccArr = []\n",
    "modelsTestLossArr = []\n",
    "modelsTestAccArr = []\n",
    "\n",
    "for i in range (len(thetaArr)):\n",
    "    #torch.manual_seed(1)\n",
    "    \n",
    "    j=copy.deepcopy(i) \n",
    "    theta = (1-alpha[i])*batch1_param + alpha[i]*batch2_param\n",
    "    j = M1()\n",
    "    torch.nn.utils.vector_to_parameters(theta,j.parameters())\n",
    "    loss_func = nn.CrossEntropyLoss()\n",
    "    optimizer = torch.optim.Adam(j.parameters(), lr=0.0004, weight_decay = 1e-4)\n",
    "    #optimizer = torch.optim.SGD(j.parameters(), lr=0.001) \n",
    "\n",
    "    a=[]\n",
    "    for k in j.parameters():\n",
    "        a.append(torch.numel(k))\n",
    "    print(f'Total no of parameters in Model Theta {i} is:{np.sum(a)}')\n",
    "\n",
    "    print(j.parameters)\n",
    "\n",
    "    max_epochs = 1\n",
    "    train_batch_size = 500\n",
    "    status = 100\n",
    "    # T_train_acc,T_train_losses = testFunction(j,loss_func,train_loader,train_batch_size)\n",
    "    T_train_epoch,T_train_losses,T_train_acc,T_trainAvgLossArr,T_trainAvgAccArr = trainFunc(j,max_epochs,train_batch_size,status)\n",
    "    \n",
    "    \n",
    "    # modelsTrainLossArr.append(T_train_losses)\n",
    "    # modelsTrainAccArr.append(T_train_acc)\n",
    "    modelsTrainLossArr.append(T_trainAvgLossArr)\n",
    "    modelsTrainAccArr.append(T_trainAvgAccArr)\n",
    "    \n",
    "    test_batch_size=500\n",
    "    T_acc, T_testLoss = testFunction(j,loss_func,test_loader,test_batch_size)\n",
    "    modelsTestAccArr.append(T_acc)\n",
    "    modelsTestLossArr.append(T_testLoss)\n",
    "\n",
    "\n"
   ]
  },
  {
   "cell_type": "code",
   "execution_count": 40,
   "id": "d570b366-c509-4132-9f5d-7f29c1e627f0",
   "metadata": {
    "tags": []
   },
   "outputs": [],
   "source": [
    "def meanScore(dataArr):\n",
    "    meanModelData = []\n",
    "    for i in range (len(dataArr)):\n",
    "        meanScore = np.mean(dataArr[i])\n",
    "        meanModelData.append(meanScore)\n",
    "    return meanModelData\n",
    "\n",
    "def minScore(dataArr):\n",
    "    minModelScore = []\n",
    "    for i in range (len(dataArr)):\n",
    "        minScore = np.mean(dataArr[i])\n",
    "        minModelScore.append(minScore)\n",
    "    return minModelScore\n",
    "\n",
    "def maxScore(dataArr):\n",
    "    maxModelScore = []\n",
    "    for i in range (len(dataArr)):\n",
    "        maxScore = np.max(dataArr[i])\n",
    "        maxModelScore.append(maxScore)\n",
    "    return maxModelScore\n"
   ]
  },
  {
   "cell_type": "code",
   "execution_count": 42,
   "id": "18cd5414-877d-4f9c-bb91-98746f810d3d",
   "metadata": {
    "tags": []
   },
   "outputs": [
    {
     "data": {
      "image/png": "[encoded data removed]",
      "text/plain": [
       "<Figure size 640x480 with 2 Axes>"
      ]
     },
     "metadata": {},
     "output_type": "display_data"
    }
   ],
   "source": [
    "fig,ax=plt.subplots()\n",
    "ax.plot(alpha,(modelsTrainLossArr),color=\"Blue\",linestyle='dashed', marker=\"o\")\n",
    "ax.plot(alpha,modelsTestLossArr,color=\"Blue\", marker=\"v\")\n",
    "ax.legend(['Train Loss','Test Loss'],loc=\"center left\")\n",
    "ax.set_xlabel(\"Alpha\",color=\"Green\")\n",
    "ax.set_ylabel(\"CrossEntropy Loss\",color = \"blue\")\n",
    "\n",
    "\n",
    "ax2=ax.twinx()\n",
    "ax2.plot(alpha,(modelsTrainAccArr),color=\"red\",linestyle='dashed', marker=\"o\")\n",
    "ax2.plot(alpha,modelsTestAccArr,color=\"red\", marker=\"v\")\n",
    "ax2.set_xlabel(\"Alpha\",color=\"Green\")\n",
    "ax2.set_ylabel(\"Accuracy\",color = \"red\")\n",
    "ax2.legend(['Train Acc','Test Acc'],loc=\"upper right\")\n",
    "\n",
    "plt.show()\n"
   ]
  },
  {
   "cell_type": "code",
   "execution_count": 43,
   "id": "ad3dd5d5-8324-44f7-8b82-cdc211418667",
   "metadata": {
    "tags": []
   },
   "outputs": [
    {
     "name": "stdout",
     "output_type": "stream",
     "text": [
      "Total no of parameters in Model with Lr=0.001 is:397510\n"
     ]
    }
   ],
   "source": [
    "# Training Model with batch size=600 and Lr 1e-3\n",
    "torch.manual_seed(1)\n",
    "\n",
    "learning_rate = 1e-3\n",
    "mLr1 = M1()\n",
    "loss_func = nn.CrossEntropyLoss()\n",
    "optimizer = torch.optim.Adam(mLr1.parameters(), lr=learning_rate) \n",
    "\n",
    "a=[]\n",
    "for i in mLr1.parameters():\n",
    "    a.append(torch.numel(i))\n",
    "print(f'Total no of parameters in Model with Lr={learning_rate} is:{np.sum(a)}')"
   ]
  },
  {
   "cell_type": "code",
   "execution_count": 44,
   "id": "e6deaeca-436f-494e-8723-bc29e42c3b40",
   "metadata": {
    "tags": []
   },
   "outputs": [
    {
     "name": "stdout",
     "output_type": "stream",
     "text": [
      "strated\n",
      "Max Epoch Reached[5/5], Step [10/938], Loss: 0.01826\n",
      "Max Epoch Reached[5/5], Step [20/938], Loss: 0.0214\n",
      "Max Epoch Reached[5/5], Step [30/938], Loss: 0.0862\n",
      "Max Epoch Reached[5/5], Step [40/938], Loss: 0.0472\n",
      "Max Epoch Reached[5/5], Step [50/938], Loss: 0.0101\n",
      "Max Epoch Reached[5/5], Step [60/938], Loss: 0.0202\n",
      "Max Epoch Reached[5/5], Step [70/938], Loss: 0.0550\n",
      "Max Epoch Reached[5/5], Step [80/938], Loss: 0.0664\n",
      "Max Epoch Reached[5/5], Step [90/938], Loss: 0.0581\n",
      "Max Epoch Reached[5/5], Step [100/938], Loss: 0.0173\n",
      "Max Epoch Reached[5/5], Step [110/938], Loss: 0.0039\n",
      "Max Epoch Reached[5/5], Step [120/938], Loss: 0.0388\n",
      "Max Epoch Reached[5/5], Step [130/938], Loss: 0.0303\n",
      "Max Epoch Reached[5/5], Step [140/938], Loss: 0.0370\n",
      "Max Epoch Reached[5/5], Step [150/938], Loss: 0.0552\n",
      "Max Epoch Reached[5/5], Step [160/938], Loss: 0.0370\n",
      "Max Epoch Reached[5/5], Step [170/938], Loss: 0.0263\n",
      "Max Epoch Reached[5/5], Step [180/938], Loss: 0.0316\n",
      "Max Epoch Reached[5/5], Step [190/938], Loss: 0.0101\n",
      "Max Epoch Reached[5/5], Step [200/938], Loss: 0.0191\n",
      "Max Epoch Reached[5/5], Step [210/938], Loss: 0.0048\n",
      "Max Epoch Reached[5/5], Step [220/938], Loss: 0.0105\n",
      "Max Epoch Reached[5/5], Step [230/938], Loss: 0.1401\n",
      "Max Epoch Reached[5/5], Step [240/938], Loss: 0.0122\n",
      "Max Epoch Reached[5/5], Step [250/938], Loss: 0.0151\n",
      "Max Epoch Reached[5/5], Step [260/938], Loss: 0.0278\n",
      "Max Epoch Reached[5/5], Step [270/938], Loss: 0.0164\n",
      "Max Epoch Reached[5/5], Step [280/938], Loss: 0.0274\n",
      "Max Epoch Reached[5/5], Step [290/938], Loss: 0.0704\n",
      "Max Epoch Reached[5/5], Step [300/938], Loss: 0.1181\n",
      "Max Epoch Reached[5/5], Step [310/938], Loss: 0.0886\n",
      "Max Epoch Reached[5/5], Step [320/938], Loss: 0.0322\n",
      "Max Epoch Reached[5/5], Step [330/938], Loss: 0.0902\n",
      "Max Epoch Reached[5/5], Step [340/938], Loss: 0.0363\n",
      "Max Epoch Reached[5/5], Step [350/938], Loss: 0.0178\n",
      "Max Epoch Reached[5/5], Step [360/938], Loss: 0.0254\n",
      "Max Epoch Reached[5/5], Step [370/938], Loss: 0.0991\n",
      "Max Epoch Reached[5/5], Step [380/938], Loss: 0.0378\n",
      "Max Epoch Reached[5/5], Step [390/938], Loss: 0.0036\n",
      "Max Epoch Reached[5/5], Step [400/938], Loss: 0.1378\n",
      "Max Epoch Reached[5/5], Step [410/938], Loss: 0.0078\n",
      "Max Epoch Reached[5/5], Step [420/938], Loss: 0.0206\n",
      "Max Epoch Reached[5/5], Step [430/938], Loss: 0.0134\n",
      "Max Epoch Reached[5/5], Step [440/938], Loss: 0.0825\n",
      "Max Epoch Reached[5/5], Step [450/938], Loss: 0.0056\n",
      "Max Epoch Reached[5/5], Step [460/938], Loss: 0.0578\n",
      "Max Epoch Reached[5/5], Step [470/938], Loss: 0.0233\n",
      "Max Epoch Reached[5/5], Step [480/938], Loss: 0.0884\n",
      "Max Epoch Reached[5/5], Step [490/938], Loss: 0.0028\n",
      "Max Epoch Reached[5/5], Step [500/938], Loss: 0.0374\n",
      "Max Epoch Reached[5/5], Step [510/938], Loss: 0.0577\n",
      "Max Epoch Reached[5/5], Step [520/938], Loss: 0.0435\n",
      "Max Epoch Reached[5/5], Step [530/938], Loss: 0.0063\n",
      "Max Epoch Reached[5/5], Step [540/938], Loss: 0.1093\n",
      "Max Epoch Reached[5/5], Step [550/938], Loss: 0.0147\n",
      "Max Epoch Reached[5/5], Step [560/938], Loss: 0.0119\n",
      "Max Epoch Reached[5/5], Step [570/938], Loss: 0.0773\n",
      "Max Epoch Reached[5/5], Step [580/938], Loss: 0.0273\n",
      "Max Epoch Reached[5/5], Step [590/938], Loss: 0.0596\n",
      "Max Epoch Reached[5/5], Step [600/938], Loss: 0.0132\n",
      "Max Epoch Reached[5/5], Step [610/938], Loss: 0.0244\n",
      "Max Epoch Reached[5/5], Step [620/938], Loss: 0.1836\n",
      "Max Epoch Reached[5/5], Step [630/938], Loss: 0.0247\n",
      "Max Epoch Reached[5/5], Step [640/938], Loss: 0.0223\n",
      "Max Epoch Reached[5/5], Step [650/938], Loss: 0.0149\n",
      "Max Epoch Reached[5/5], Step [660/938], Loss: 0.0490\n",
      "Max Epoch Reached[5/5], Step [670/938], Loss: 0.0391\n",
      "Max Epoch Reached[5/5], Step [680/938], Loss: 0.0324\n",
      "Max Epoch Reached[5/5], Step [690/938], Loss: 0.0814\n",
      "Max Epoch Reached[5/5], Step [700/938], Loss: 0.0370\n",
      "Max Epoch Reached[5/5], Step [710/938], Loss: 0.0356\n",
      "Max Epoch Reached[5/5], Step [720/938], Loss: 0.0399\n",
      "Max Epoch Reached[5/5], Step [730/938], Loss: 0.0105\n",
      "Max Epoch Reached[5/5], Step [740/938], Loss: 0.0055\n",
      "Max Epoch Reached[5/5], Step [750/938], Loss: 0.0145\n",
      "Max Epoch Reached[5/5], Step [760/938], Loss: 0.0148\n",
      "Max Epoch Reached[5/5], Step [770/938], Loss: 0.0091\n",
      "Max Epoch Reached[5/5], Step [780/938], Loss: 0.0210\n",
      "Max Epoch Reached[5/5], Step [790/938], Loss: 0.0405\n",
      "Max Epoch Reached[5/5], Step [800/938], Loss: 0.0145\n",
      "Max Epoch Reached[5/5], Step [810/938], Loss: 0.0081\n",
      "Max Epoch Reached[5/5], Step [820/938], Loss: 0.0116\n",
      "Max Epoch Reached[5/5], Step [830/938], Loss: 0.0222\n",
      "Max Epoch Reached[5/5], Step [840/938], Loss: 0.0423\n",
      "Max Epoch Reached[5/5], Step [850/938], Loss: 0.1108\n",
      "Max Epoch Reached[5/5], Step [860/938], Loss: 0.0157\n",
      "Max Epoch Reached[5/5], Step [870/938], Loss: 0.0278\n",
      "Max Epoch Reached[5/5], Step [880/938], Loss: 0.0530\n",
      "Max Epoch Reached[5/5], Step [890/938], Loss: 0.0253\n",
      "Max Epoch Reached[5/5], Step [900/938], Loss: 0.0058\n",
      "Max Epoch Reached[5/5], Step [910/938], Loss: 0.0579\n",
      "Max Epoch Reached[5/5], Step [920/938], Loss: 0.0258\n",
      "Max Epoch Reached[5/5], Step [930/938], Loss: 0.0048\n"
     ]
    }
   ],
   "source": [
    "max_epochs = 5\n",
    "train_batch_size = 64\n",
    "status = 10\n",
    "L1_train_epoch,L1_train_losses,L1_train_acc,L1_trainAvgLossArr,L1_trainAvgAccArr  = trainFunc(mLr1,max_epochs,train_batch_size,status)"
   ]
  },
  {
   "cell_type": "code",
   "execution_count": 45,
   "id": "e2061de1-ebce-4486-ba47-1ddbf0125660",
   "metadata": {
    "tags": []
   },
   "outputs": [
    {
     "name": "stdout",
     "output_type": "stream",
     "text": [
      "tensor([ 0.0184, -0.0158, -0.0069,  ..., -0.0085,  0.0319, -0.0199],\n",
      "       grad_fn=<CatBackward0>) \n",
      "len: 397510\n"
     ]
    }
   ],
   "source": [
    "Lr1_param = torch.nn.utils.parameters_to_vector(mLr1.parameters())\n",
    "print(Lr1_param,'\\nlen:',len(Lr1_param))"
   ]
  },
  {
   "cell_type": "code",
   "execution_count": 46,
   "id": "28c64ec5-1d6e-4905-8d2d-75ce77d46841",
   "metadata": {
    "tags": []
   },
   "outputs": [
    {
     "name": "stdout",
     "output_type": "stream",
     "text": [
      "Total no of parameters in Model with Lr=0.01 is:397510\n"
     ]
    }
   ],
   "source": [
    "# Training Model with batch size=600 and Lr 1e-2\n",
    "torch.manual_seed(1)\n",
    "learning_rate = 1e-2\n",
    "mLr2 = M1()\n",
    "loss_func = nn.CrossEntropyLoss()\n",
    "optimizer = torch.optim.Adam(mLr2.parameters(), lr=learning_rate) \n",
    "\n",
    "a=[]\n",
    "for i in mLr2.parameters():\n",
    "    a.append(torch.numel(i))\n",
    "print(f'Total no of parameters in Model with Lr={learning_rate} is:{np.sum(a)}')"
   ]
  },
  {
   "cell_type": "code",
   "execution_count": 47,
   "id": "f2ab488b-fc8b-4c0c-a101-1d83f06d3e3b",
   "metadata": {
    "tags": []
   },
   "outputs": [
    {
     "name": "stdout",
     "output_type": "stream",
     "text": [
      "strated\n",
      "Max Epoch Reached[5/5], Step [10/938], Loss: 0.03534\n",
      "Max Epoch Reached[5/5], Step [20/938], Loss: 0.0539\n",
      "Max Epoch Reached[5/5], Step [30/938], Loss: 0.1446\n",
      "Max Epoch Reached[5/5], Step [40/938], Loss: 0.0394\n",
      "Max Epoch Reached[5/5], Step [50/938], Loss: 0.0026\n",
      "Max Epoch Reached[5/5], Step [60/938], Loss: 0.0029\n",
      "Max Epoch Reached[5/5], Step [70/938], Loss: 0.1733\n",
      "Max Epoch Reached[5/5], Step [80/938], Loss: 0.2381\n",
      "Max Epoch Reached[5/5], Step [90/938], Loss: 0.0383\n",
      "Max Epoch Reached[5/5], Step [100/938], Loss: 0.0894\n",
      "Max Epoch Reached[5/5], Step [110/938], Loss: 0.0877\n",
      "Max Epoch Reached[5/5], Step [120/938], Loss: 0.0729\n",
      "Max Epoch Reached[5/5], Step [130/938], Loss: 0.0851\n",
      "Max Epoch Reached[5/5], Step [140/938], Loss: 0.1023\n",
      "Max Epoch Reached[5/5], Step [150/938], Loss: 0.6476\n",
      "Max Epoch Reached[5/5], Step [160/938], Loss: 0.0680\n",
      "Max Epoch Reached[5/5], Step [170/938], Loss: 0.0846\n",
      "Max Epoch Reached[5/5], Step [180/938], Loss: 0.1157\n",
      "Max Epoch Reached[5/5], Step [190/938], Loss: 0.2816\n",
      "Max Epoch Reached[5/5], Step [200/938], Loss: 0.0047\n",
      "Max Epoch Reached[5/5], Step [210/938], Loss: 0.0013\n",
      "Max Epoch Reached[5/5], Step [220/938], Loss: 0.0613\n",
      "Max Epoch Reached[5/5], Step [230/938], Loss: 0.2088\n",
      "Max Epoch Reached[5/5], Step [240/938], Loss: 0.0868\n",
      "Max Epoch Reached[5/5], Step [250/938], Loss: 0.0296\n",
      "Max Epoch Reached[5/5], Step [260/938], Loss: 0.0901\n",
      "Max Epoch Reached[5/5], Step [270/938], Loss: 0.1248\n",
      "Max Epoch Reached[5/5], Step [280/938], Loss: 0.1009\n",
      "Max Epoch Reached[5/5], Step [290/938], Loss: 0.0131\n",
      "Max Epoch Reached[5/5], Step [300/938], Loss: 0.1998\n",
      "Max Epoch Reached[5/5], Step [310/938], Loss: 0.2361\n",
      "Max Epoch Reached[5/5], Step [320/938], Loss: 0.1787\n",
      "Max Epoch Reached[5/5], Step [330/938], Loss: 0.1532\n",
      "Max Epoch Reached[5/5], Step [340/938], Loss: 0.2716\n",
      "Max Epoch Reached[5/5], Step [350/938], Loss: 0.0259\n",
      "Max Epoch Reached[5/5], Step [360/938], Loss: 0.1114\n",
      "Max Epoch Reached[5/5], Step [370/938], Loss: 0.2144\n",
      "Max Epoch Reached[5/5], Step [380/938], Loss: 0.0734\n",
      "Max Epoch Reached[5/5], Step [390/938], Loss: 0.0027\n",
      "Max Epoch Reached[5/5], Step [400/938], Loss: 0.1172\n",
      "Max Epoch Reached[5/5], Step [410/938], Loss: 0.0457\n",
      "Max Epoch Reached[5/5], Step [420/938], Loss: 0.0394\n",
      "Max Epoch Reached[5/5], Step [430/938], Loss: 0.0773\n",
      "Max Epoch Reached[5/5], Step [440/938], Loss: 0.0923\n",
      "Max Epoch Reached[5/5], Step [450/938], Loss: 0.1294\n",
      "Max Epoch Reached[5/5], Step [460/938], Loss: 0.1943\n",
      "Max Epoch Reached[5/5], Step [470/938], Loss: 0.0929\n",
      "Max Epoch Reached[5/5], Step [480/938], Loss: 0.0858\n",
      "Max Epoch Reached[5/5], Step [490/938], Loss: 0.0018\n",
      "Max Epoch Reached[5/5], Step [500/938], Loss: 0.1307\n",
      "Max Epoch Reached[5/5], Step [510/938], Loss: 0.0370\n",
      "Max Epoch Reached[5/5], Step [520/938], Loss: 0.0997\n",
      "Max Epoch Reached[5/5], Step [530/938], Loss: 0.0033\n",
      "Max Epoch Reached[5/5], Step [540/938], Loss: 0.3112\n",
      "Max Epoch Reached[5/5], Step [550/938], Loss: 0.2662\n",
      "Max Epoch Reached[5/5], Step [560/938], Loss: 0.0060\n",
      "Max Epoch Reached[5/5], Step [570/938], Loss: 0.0974\n",
      "Max Epoch Reached[5/5], Step [580/938], Loss: 0.0676\n",
      "Max Epoch Reached[5/5], Step [590/938], Loss: 0.1457\n",
      "Max Epoch Reached[5/5], Step [600/938], Loss: 0.0445\n",
      "Max Epoch Reached[5/5], Step [610/938], Loss: 0.0317\n",
      "Max Epoch Reached[5/5], Step [620/938], Loss: 0.3316\n",
      "Max Epoch Reached[5/5], Step [630/938], Loss: 0.5410\n",
      "Max Epoch Reached[5/5], Step [640/938], Loss: 0.0464\n",
      "Max Epoch Reached[5/5], Step [650/938], Loss: 0.0458\n",
      "Max Epoch Reached[5/5], Step [660/938], Loss: 0.0412\n",
      "Max Epoch Reached[5/5], Step [670/938], Loss: 0.3589\n",
      "Max Epoch Reached[5/5], Step [680/938], Loss: 0.3720\n",
      "Max Epoch Reached[5/5], Step [690/938], Loss: 0.2836\n",
      "Max Epoch Reached[5/5], Step [700/938], Loss: 0.3199\n",
      "Max Epoch Reached[5/5], Step [710/938], Loss: 0.1123\n",
      "Max Epoch Reached[5/5], Step [720/938], Loss: 0.1777\n",
      "Max Epoch Reached[5/5], Step [730/938], Loss: 0.0424\n",
      "Max Epoch Reached[5/5], Step [740/938], Loss: 0.0450\n",
      "Max Epoch Reached[5/5], Step [750/938], Loss: 0.0125\n",
      "Max Epoch Reached[5/5], Step [760/938], Loss: 0.0836\n",
      "Max Epoch Reached[5/5], Step [770/938], Loss: 0.0654\n",
      "Max Epoch Reached[5/5], Step [780/938], Loss: 0.0576\n",
      "Max Epoch Reached[5/5], Step [790/938], Loss: 0.0342\n",
      "Max Epoch Reached[5/5], Step [800/938], Loss: 0.1685\n",
      "Max Epoch Reached[5/5], Step [810/938], Loss: 0.0024\n",
      "Max Epoch Reached[5/5], Step [820/938], Loss: 0.0274\n",
      "Max Epoch Reached[5/5], Step [830/938], Loss: 0.0412\n",
      "Max Epoch Reached[5/5], Step [840/938], Loss: 0.0635\n",
      "Max Epoch Reached[5/5], Step [850/938], Loss: 0.4568\n",
      "Max Epoch Reached[5/5], Step [860/938], Loss: 0.1357\n",
      "Max Epoch Reached[5/5], Step [870/938], Loss: 0.3264\n",
      "Max Epoch Reached[5/5], Step [880/938], Loss: 0.1111\n",
      "Max Epoch Reached[5/5], Step [890/938], Loss: 0.0121\n",
      "Max Epoch Reached[5/5], Step [900/938], Loss: 0.0479\n",
      "Max Epoch Reached[5/5], Step [910/938], Loss: 0.0050\n",
      "Max Epoch Reached[5/5], Step [920/938], Loss: 0.0679\n",
      "Max Epoch Reached[5/5], Step [930/938], Loss: 0.0138\n"
     ]
    }
   ],
   "source": [
    "max_epochs = 5\n",
    "train_batch_size = 64\n",
    "status = 10\n",
    "L2_train_epoch,L2_train_losses,L2_train_acc,L2_trainAvgLossArr,L2_trainAvgAccArr  = trainFunc(mLr2,max_epochs,train_batch_size,status)"
   ]
  },
  {
   "cell_type": "code",
   "execution_count": 48,
   "id": "ed3ac1d2-cbb7-4bfa-b37a-ccae320a7b6c",
   "metadata": {
    "tags": []
   },
   "outputs": [],
   "source": [
    "epochArr = np.array(np.linspace(1,max_epochs,max_epochs))"
   ]
  },
  {
   "cell_type": "code",
   "execution_count": 49,
   "id": "28a8c067-a742-47a5-9c8e-fbbd4838fadd",
   "metadata": {
    "tags": []
   },
   "outputs": [
    {
     "data": {
      "image/png": "[encoded data removed]",
      "text/plain": [
       "<Figure size 2000x800 with 1 Axes>"
      ]
     },
     "metadata": {},
     "output_type": "display_data"
    }
   ],
   "source": [
    "#Plotting Loss plot for both Batch 1 and Batch 2 models\n",
    "plt.figure(figsize=(20, 8))\n",
    "plt.plot(epochArr,L1_trainAvgLossArr,color=\"blue\")\n",
    "plt.plot(epochArr,L2_trainAvgLossArr,color=\"orange\")\n",
    "plt.title('Lr1 & Lr2 Loss VS Epoch',color=\"green\")\n",
    "plt.legend(['LR1:1e-3 1','LR2:1e-2'])\n",
    "plt.xlabel ('Epoch')\n",
    "plt.ylabel ('loss')\n",
    "plt.show()"
   ]
  },
  {
   "cell_type": "code",
   "execution_count": 50,
   "id": "61a8c25a-d6f0-4da5-9030-447719b0d901",
   "metadata": {
    "tags": []
   },
   "outputs": [
    {
     "name": "stdout",
     "output_type": "stream",
     "text": [
      "tensor([ 0.0184, -0.0158, -0.0069,  ..., -1.0160,  1.6486,  0.2941],\n",
      "       grad_fn=<CatBackward0>) \n",
      "len: 397510\n"
     ]
    }
   ],
   "source": [
    "Lr2_param = torch.nn.utils.parameters_to_vector(mLr2.parameters())\n",
    "print(Lr2_param,'\\nlen:',len(Lr2_param))"
   ]
  },
  {
   "cell_type": "code",
   "execution_count": 51,
   "id": "b0cf66d7-a8e4-49d7-883c-efa1128d3155",
   "metadata": {
    "tags": []
   },
   "outputs": [
    {
     "name": "stdout",
     "output_type": "stream",
     "text": [
      "Total no of parameters in Model Theta 0 is:397510\n",
      "<bound method Module.parameters of M1(\n",
      "  (fc1): Linear(in_features=784, out_features=500, bias=True)\n",
      "  (fc2): Linear(in_features=500, out_features=10, bias=True)\n",
      ")>\n",
      "strated\n",
      "Max Epoch Reached[1/1], Step [60/60], Loss: 82.6715\n",
      "Total no of parameters in Model Theta 1 is:397510 & Test Loss: 82.90622673034667 %\n",
      "<bound method Module.parameters of M1(\n",
      "  (fc1): Linear(in_features=784, out_features=500, bias=True)\n",
      "  (fc2): Linear(in_features=500, out_features=10, bias=True)\n",
      ")>\n",
      "strated\n",
      "Max Epoch Reached[1/1], Step [60/60], Loss: 68.3566\n",
      "Total no of parameters in Model Theta 2 is:397510 & Test Loss: 68.49610252380371 %\n",
      "<bound method Module.parameters of M1(\n",
      "  (fc1): Linear(in_features=784, out_features=500, bias=True)\n",
      "  (fc2): Linear(in_features=500, out_features=10, bias=True)\n",
      ")>\n",
      "strated\n",
      "Max Epoch Reached[1/1], Step [60/60], Loss: 55.2739\n",
      "Total no of parameters in Model Theta 3 is:397510 & Test Loss: 55.705725479125974 %\n",
      "<bound method Module.parameters of M1(\n",
      "  (fc1): Linear(in_features=784, out_features=500, bias=True)\n",
      "  (fc2): Linear(in_features=500, out_features=10, bias=True)\n",
      ")>\n",
      "strated\n",
      "Max Epoch Reached[1/1], Step [60/60], Loss: 44.1405\n",
      "Total no of parameters in Model Theta 4 is:397510 & Test Loss: 44.91579036712646 %\n",
      "<bound method Module.parameters of M1(\n",
      "  (fc1): Linear(in_features=784, out_features=500, bias=True)\n",
      "  (fc2): Linear(in_features=500, out_features=10, bias=True)\n",
      ")>\n",
      "strated\n",
      "Max Epoch Reached[1/1], Step [60/60], Loss: 34.6172\n",
      "Total no of parameters in Model Theta 5 is:397510 & Test Loss: 35.362402725219724 %\n",
      "<bound method Module.parameters of M1(\n",
      "  (fc1): Linear(in_features=784, out_features=500, bias=True)\n",
      "  (fc2): Linear(in_features=500, out_features=10, bias=True)\n",
      ")>\n",
      "strated\n",
      "Max Epoch Reached[1/1], Step [60/60], Loss: 26.0007\n",
      "Total no of parameters in Model Theta 6 is:397510& Test Loss: 26.714777374267577 %\n",
      "<bound method Module.parameters of M1(\n",
      "  (fc1): Linear(in_features=784, out_features=500, bias=True)\n",
      "  (fc2): Linear(in_features=500, out_features=10, bias=True)\n",
      ")>\n",
      "strated\n",
      "Max Epoch Reached[1/1], Step [60/60], Loss: 18.5038\n",
      "Total no of parameters in Model Theta 7 is:397510 & Test Loss: 19.219930839538574 %\n",
      "<bound method Module.parameters of M1(\n",
      "  (fc1): Linear(in_features=784, out_features=500, bias=True)\n",
      "  (fc2): Linear(in_features=500, out_features=10, bias=True)\n",
      ")>\n",
      "strated\n",
      "Max Epoch Reached[1/1], Step [60/60], Loss: 12.5983\n",
      "Total no of parameters in Model Theta 8 is:397510 & Test Loss: 13.234821891784668 %\n",
      "<bound method Module.parameters of M1(\n",
      "  (fc1): Linear(in_features=784, out_features=500, bias=True)\n",
      "  (fc2): Linear(in_features=500, out_features=10, bias=True)\n",
      ")>\n",
      "strated\n",
      "Max Epoch Reached[1/1], Step [60/60], Loss: 8.1423\n",
      "Total no of parameters in Model Theta 9 is:397510 & Test Loss: 8.592559242248536 %\n",
      "<bound method Module.parameters of M1(\n",
      "  (fc1): Linear(in_features=784, out_features=500, bias=True)\n",
      "  (fc2): Linear(in_features=500, out_features=10, bias=True)\n",
      ")>\n",
      "strated\n",
      "Max Epoch Reached[1/1], Step [60/60], Loss: 4.9149\n",
      "Total no of parameters in Model Theta 10 is:397510& Test Loss: 5.171058392524719 %\n",
      "<bound method Module.parameters of M1(\n",
      "  (fc1): Linear(in_features=784, out_features=500, bias=True)\n",
      "  (fc2): Linear(in_features=500, out_features=10, bias=True)\n",
      ")>\n",
      "strated\n",
      "Max Epoch Reached[1/1], Step [60/60], Loss: 2.7059\n",
      "Total no of parameters in Model Theta 11 is:397510& Test Loss: 2.8449791431427003 %\n",
      "<bound method Module.parameters of M1(\n",
      "  (fc1): Linear(in_features=784, out_features=500, bias=True)\n",
      "  (fc2): Linear(in_features=500, out_features=10, bias=True)\n",
      ")>\n",
      "strated\n",
      "Max Epoch Reached[1/1], Step [60/60], Loss: 1.2722\n",
      "Total no of parameters in Model Theta 12 is:397510& Test Loss: 1.4067501842975616 %\n",
      "<bound method Module.parameters of M1(\n",
      "  (fc1): Linear(in_features=784, out_features=500, bias=True)\n",
      "  (fc2): Linear(in_features=500, out_features=10, bias=True)\n",
      ")>\n",
      "strated\n",
      "Max Epoch Reached[1/1], Step [60/60], Loss: 0.5673\n",
      "Total no of parameters in Model Theta 13 is:397510& Test Loss: 0.6594643592834473 %\n",
      "<bound method Module.parameters of M1(\n",
      "  (fc1): Linear(in_features=784, out_features=500, bias=True)\n",
      "  (fc2): Linear(in_features=500, out_features=10, bias=True)\n",
      ")>\n",
      "strated\n",
      "Max Epoch Reached[1/1], Step [60/60], Loss: 0.2238\n",
      "Total no of parameters in Model Theta 14 is:397510& Test Loss: 0.28861570358276367 %\n",
      "<bound method Module.parameters of M1(\n",
      "  (fc1): Linear(in_features=784, out_features=500, bias=True)\n",
      "  (fc2): Linear(in_features=500, out_features=10, bias=True)\n",
      ")>\n",
      "strated\n",
      "Max Epoch Reached[1/1], Step [60/60], Loss: 0.0557\n",
      "Total no of parameters in Model Theta 15 is:397510& Test Loss: 0.1130096647888422 %\n",
      "<bound method Module.parameters of M1(\n",
      "  (fc1): Linear(in_features=784, out_features=500, bias=True)\n",
      "  (fc2): Linear(in_features=500, out_features=10, bias=True)\n",
      ")>\n",
      "strated\n",
      "Max Epoch Reached[1/1], Step [60/60], Loss: 0.0136\n",
      "Total no of parameters in Model Theta 16 is:397510& Test Loss: 0.05597517443820834 %\n",
      "<bound method Module.parameters of M1(\n",
      "  (fc1): Linear(in_features=784, out_features=500, bias=True)\n",
      "  (fc2): Linear(in_features=500, out_features=10, bias=True)\n",
      ")>\n",
      "strated\n",
      "Max Epoch Reached[1/1], Step [60/60], Loss: 0.0291\n",
      "Total no of parameters in Model Theta 17 is:397510& Test Loss: 0.05993935177102685 %\n",
      "<bound method Module.parameters of M1(\n",
      "  (fc1): Linear(in_features=784, out_features=500, bias=True)\n",
      "  (fc2): Linear(in_features=500, out_features=10, bias=True)\n",
      ")>\n",
      "strated\n",
      "Max Epoch Reached[1/1], Step [60/60], Loss: 0.0393\n",
      "Total no of parameters in Model Theta 18 is:397510& Test Loss: 0.06341222627088428 %\n",
      "<bound method Module.parameters of M1(\n",
      "  (fc1): Linear(in_features=784, out_features=500, bias=True)\n",
      "  (fc2): Linear(in_features=500, out_features=10, bias=True)\n",
      ")>\n",
      "strated\n",
      "Max Epoch Reached[1/1], Step [60/60], Loss: 0.0354\n",
      "Total no of parameters in Model Theta 19 is:397510& Test Loss: 0.06637059897184372 %\n",
      "<bound method Module.parameters of M1(\n",
      "  (fc1): Linear(in_features=784, out_features=500, bias=True)\n",
      "  (fc2): Linear(in_features=500, out_features=10, bias=True)\n",
      ")>\n",
      "strated\n",
      "Max Epoch Reached[1/1], Step [60/60], Loss: 0.0346\n",
      "Total no of parameters in Model Theta 20 is:397510& Test Loss: 0.07123097013682127 %\n",
      "<bound method Module.parameters of M1(\n",
      "  (fc1): Linear(in_features=784, out_features=500, bias=True)\n",
      "  (fc2): Linear(in_features=500, out_features=10, bias=True)\n",
      ")>\n",
      "strated\n",
      "Max Epoch Reached[1/1], Step [60/60], Loss: 0.0320\n",
      "Total no of parameters in Model Theta 21 is:397510& Test Loss: 0.07740885019302368 %\n",
      "<bound method Module.parameters of M1(\n",
      "  (fc1): Linear(in_features=784, out_features=500, bias=True)\n",
      "  (fc2): Linear(in_features=500, out_features=10, bias=True)\n",
      ")>\n",
      "strated\n",
      "Max Epoch Reached[1/1], Step [60/60], Loss: 0.0325\n",
      "Total no of parameters in Model Theta 22 is:397510& Test Loss: 0.08685846291482449 %\n",
      "<bound method Module.parameters of M1(\n",
      "  (fc1): Linear(in_features=784, out_features=500, bias=True)\n",
      "  (fc2): Linear(in_features=500, out_features=10, bias=True)\n",
      ")>\n",
      "strated\n",
      "Max Epoch Reached[1/1], Step [60/60], Loss: 0.0354\n",
      "Total no of parameters in Model Theta 23 is:397510& Test Loss: 0.10110151320695877 %\n",
      "<bound method Module.parameters of M1(\n",
      "  (fc1): Linear(in_features=784, out_features=500, bias=True)\n",
      "  (fc2): Linear(in_features=500, out_features=10, bias=True)\n",
      ")>\n",
      "strated\n",
      "Max Epoch Reached[1/1], Step [60/60], Loss: 0.0428\n",
      "Total no of parameters in Model Theta 24 is:397510& Test Loss: 0.12135527804493904 %\n",
      "<bound method Module.parameters of M1(\n",
      "  (fc1): Linear(in_features=784, out_features=500, bias=True)\n",
      "  (fc2): Linear(in_features=500, out_features=10, bias=True)\n",
      ")>\n",
      "strated\n",
      "Max Epoch Reached[1/1], Step [60/60], Loss: 0.0536\n",
      "Total no of parameters in Model Theta 25 is:397510& Test Loss: 0.14688726626336573 %\n",
      "<bound method Module.parameters of M1(\n",
      "  (fc1): Linear(in_features=784, out_features=500, bias=True)\n",
      "  (fc2): Linear(in_features=500, out_features=10, bias=True)\n",
      ")>\n",
      "strated\n",
      "Max Epoch Reached[1/1], Step [60/60], Loss: 0.0680\n",
      "Total no of parameters in Model Theta 26 is:397510& Test Loss: 0.17804637402296067 %\n",
      "<bound method Module.parameters of M1(\n",
      "  (fc1): Linear(in_features=784, out_features=500, bias=True)\n",
      "  (fc2): Linear(in_features=500, out_features=10, bias=True)\n",
      ")>\n",
      "strated\n",
      "Max Epoch Reached[1/1], Step [60/60], Loss: 0.0854\n",
      "Total no of parameters in Model Theta 27 is:397510& Test Loss: 0.21443630754947662 %\n",
      "<bound method Module.parameters of M1(\n",
      "  (fc1): Linear(in_features=784, out_features=500, bias=True)\n",
      "  (fc2): Linear(in_features=500, out_features=10, bias=True)\n",
      ")>\n",
      "strated\n",
      "Max Epoch Reached[1/1], Step [60/60], Loss: 0.1048\n",
      "Total no of parameters in Model Theta 28 is:397510& Test Loss: 0.2555699609220028 %\n",
      "<bound method Module.parameters of M1(\n",
      "  (fc1): Linear(in_features=784, out_features=500, bias=True)\n",
      "  (fc2): Linear(in_features=500, out_features=10, bias=True)\n",
      ")>\n",
      "strated\n",
      "Max Epoch Reached[1/1], Step [60/60], Loss: 0.1282\n",
      "Total no of parameters in Model Theta 29 is:397510& Test Loss: 0.30216254889965055 %\n",
      "<bound method Module.parameters of M1(\n",
      "  (fc1): Linear(in_features=784, out_features=500, bias=True)\n",
      "  (fc2): Linear(in_features=500, out_features=10, bias=True)\n",
      ")>\n",
      "strated\n",
      "Max Epoch Reached[1/1], Step [60/60], Loss: 0.1548\n",
      "Total no of parameters in Model Theta 30 is:397510& Test Loss: 0.3541597925126553 %\n",
      "<bound method Module.parameters of M1(\n",
      "  (fc1): Linear(in_features=784, out_features=500, bias=True)\n",
      "  (fc2): Linear(in_features=500, out_features=10, bias=True)\n",
      ")>\n",
      "strated\n",
      "Max Epoch Reached[1/1], Step [60/60], Loss: 0.1842\n",
      "Accuracy of the network on the test images: 96.9 & Test Loss: 0.41177283599972725 %\r"
     ]
    }
   ],
   "source": [
    "modelsTrainEpochArr2 = []\n",
    "modelsTrainLossArr2 = []\n",
    "modelsTrainAccArr2 = []\n",
    "modelsTestLossArr2 = []\n",
    "modelsTestAccArr2 = []\n",
    "\n",
    "for i in range (len(thetaArr)):\n",
    "    torch.manual_seed(1)\n",
    "    j=copy.deepcopy(i) \n",
    "    theta = (1-alpha[i])*Lr1_param + alpha[i]*Lr2_param\n",
    "    j = M1()\n",
    "    torch.nn.utils.vector_to_parameters(theta,j.parameters())\n",
    "    loss_func = nn.CrossEntropyLoss()\n",
    "    optimizer = torch.optim.Adam(j.parameters(), lr=1e-3) #,weight_decay = 0.025)\n",
    "\n",
    "    a=[]\n",
    "    for k in j.parameters():\n",
    "        a.append(torch.numel(k))\n",
    "    print(f'Total no of parameters in Model Theta {i} is:{np.sum(a)}')\n",
    "\n",
    "    print(j.parameters)\n",
    "\n",
    "    max_epochs = 1\n",
    "    train_batch_size = 1000\n",
    "    status = 60\n",
    "    T2_train_epoch,T2_train_losses,T2_train_acc,T2_trainAvgLossArr,T2_trainAvgAccArr = trainFunc(j,max_epochs,train_batch_size,status) #trainFunc(mBatch1,max_epochs,train_batch_size)\n",
    "    \n",
    "    \n",
    "    #modelsTrainEpochArr2.append(T2_trainAvgLossArr)\n",
    "    modelsTrainLossArr2.append(T2_trainAvgLossArr)\n",
    "    modelsTrainAccArr2.append(T2_trainAvgAccArr)\n",
    "    \n",
    "    test_batch_size=1000\n",
    "    T2_acc,T2_testLoss = testFunction(j,loss_func,test_loader,test_batch_size)\n",
    "    modelsTestAccArr2.append(T2_acc)\n",
    "    modelsTestLossArr2.append(T2_testLoss)"
   ]
  },
  {
   "cell_type": "code",
   "execution_count": 52,
   "id": "96c773cd-d2b1-4c7b-93cd-dd89e9d37264",
   "metadata": {
    "tags": []
   },
   "outputs": [
    {
     "data": {
      "image/png": "[encoded data removed]",
      "text/plain": [
       "<Figure size 640x480 with 2 Axes>"
      ]
     },
     "metadata": {},
     "output_type": "display_data"
    }
   ],
   "source": [
    "fig,ax=plt.subplots()\n",
    "ax.plot(alpha,(modelsTrainLossArr2),color=\"Blue\",linestyle='dashed', marker=\"o\")\n",
    "ax.plot(alpha,modelsTestLossArr2,color=\"Blue\", marker=\"v\")\n",
    "ax.legend(['Train Loss','Test Loss'],loc=\"center left\")\n",
    "ax.set_xlabel(\"Alpha\",color=\"Green\")\n",
    "ax.set_ylabel(\"CrossEntropy Loss\",color = \"blue\")\n",
    "ax.set_title(\"learning rate 1e-3 vs. 1e-2\",color = \"green\")\n",
    "\n",
    "\n",
    "ax2=ax.twinx()\n",
    "ax2.plot(alpha,(modelsTrainAccArr2),color=\"red\",linestyle='dashed', marker=\"o\")\n",
    "ax2.plot(alpha,modelsTestAccArr2,color=\"red\", marker=\"v\")\n",
    "ax2.set_xlabel(\"Alpha\",color=\"Green\")\n",
    "ax2.set_ylabel(\"Accuracy\",color = \"red\")\n",
    "ax2.legend(['Train Acc','Test Acc'],loc=\"upper right\")\n",
    "\n",
    "plt.show()\n"
   ]
  },
  {
   "cell_type": "code",
   "execution_count": null,
   "id": "53e4759b-48d9-4a32-85e3-30eb6011b642",
   "metadata": {},
   "outputs": [],
   "source": []
  }
 ],
 "metadata": {
  "kernelspec": {
   "display_name": "Python 3 (ipykernel)",
   "language": "python",
   "name": "python3"
  },
  "language_info": {
   "codemirror_mode": {
    "name": "ipython",
    "version": 3
   },
   "file_extension": ".py",
   "mimetype": "text/x-python",
   "name": "python",
   "nbconvert_exporter": "python",
   "pygments_lexer": "ipython3",
   "version": "3.11.5"
  }
 },
 "nbformat": 4,
 "nbformat_minor": 5
}
